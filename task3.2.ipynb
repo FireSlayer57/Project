{
 "cells": [
  {
   "cell_type": "code",
   "execution_count": 1,
   "metadata": {
    "collapsed": true
   },
   "outputs": [],
   "source": [
    "import random as rd\n",
    "import numpy as np\n",
    "from itertools import product\n",
    "from scipy import optimize\n",
    "import datetime\n",
    "%matplotlib inline\n",
    "import matplotlib\n",
    "import matplotlib.pyplot as plt\n",
    "#Generating pairwise correlations of 10 sectors\n",
    "M2_S = np.zeros((10,10))\n",
    "for i,j in product (range(0,10),range(0,10)):\n",
    "    if (i==j):\n",
    "        M2_S[i][j] = 1.0\n",
    "    else:\n",
    "        if (i>j):\n",
    "            M2_S[i][j] = rd.uniform(-1.0,1.0)\n",
    "            M2_S[j][i] = M2_S[i][j]   "
   ]
  },
  {
   "cell_type": "code",
   "execution_count": 2,
   "metadata": {
    "collapsed": false
   },
   "outputs": [],
   "source": [
    "#Correlation matrix of 100 stocks based on their sector structure\n",
    "\n",
    "def tanh(x):\n",
    "    for (k,i,j) in product(range(0,61), range(0,100), range(0,100)):\n",
    "        x[k][i][j] = np.tanh(x[k][i][j])\n",
    "\n",
    "\n",
    "def daily_correlation(sigma):\n",
    "    daily_corr = np.zeros((61, 100, 100))\n",
    "    for (i, j) in product (range(0,100), range(0,100)):\n",
    "        if (i>j):\n",
    "            daily_corr[0][i][j] = np.random.normal(M2_S[i/10][j/10], sigma, 1)\n",
    "            daily_corr[0][j][i] = daily_corr[0][i][j]\n",
    "        else:\n",
    "            if (i==j):\n",
    "                daily_corr[0][i][j] = 1.0\n",
    "        for k in range(1, 61):\n",
    "            if (i>j):\n",
    "                daily_corr[k][i][j] = np.random.normal(daily_corr[k-1][i][j], sigma, 1)\n",
    "                daily_corr[k][j][i] = daily_corr[k][i][j]\n",
    "            else:\n",
    "                if (i==j):\n",
    "                    daily_corr[k][i][j] = 1.0  \n",
    "    tanh(daily_corr)\n",
    "    return daily_corr\n",
    "\n",
    "daily_corr = daily_correlation(0.3)\n",
    "\n",
    "\n"
   ]
  },
  {
   "cell_type": "code",
   "execution_count": 3,
   "metadata": {
    "collapsed": false
   },
   "outputs": [
    {
     "data": {
      "image/png": "[encoded data removed]",
      "text/plain": [
       "<matplotlib.figure.Figure at 0x6a9acf8>"
      ]
     },
     "metadata": {},
     "output_type": "display_data"
    }
   ],
   "source": [
    " #Plots showing evolution of the correlations between some stocks\n",
    "def plots(daily_corr):       \n",
    "    a,b,c,d = [],[],[],[]\n",
    "    for i in range (0,61):\n",
    "        a.append(daily_corr[i][9][94])\n",
    "        b.append(daily_corr[i][97][95])\n",
    "        c.append(daily_corr[i][10][11])\n",
    "        d.append(daily_corr[i][10][12])\n",
    "\n",
    "    plt.plot(a, 'r', b, 'b', c, 'g', d, 'c')\n",
    "    plt.show()\n",
    "\n",
    "    \n",
    "plots(daily_corr)"
   ]
  },
  {
   "cell_type": "code",
   "execution_count": 4,
   "metadata": {
    "collapsed": false
   },
   "outputs": [],
   "source": [
    "#Generating samples of stock returns based on their correlations over 61 days\n",
    "def return_generator(N_samples, daily_corr):\n",
    "    mu = np.zeros(100)\n",
    "    returns = []\n",
    "    for k in range(0,61):\n",
    "        returns.append(np.random.multivariate_normal(mu, daily_corr[k], N_samples))\n",
    "    last_returns = returns[60]\n",
    "    returns = np.swapaxes(np.delete(returns, 60, axis=0), 0, 1)\n",
    "    return returns, last_returns"
   ]
  },
  {
   "cell_type": "code",
   "execution_count": 5,
   "metadata": {
    "collapsed": false
   },
   "outputs": [],
   "source": [
    "#Empirical models for correlation matrices of stock returns constructed from 60 days\n",
    "#model1 - straight-forward empirical\n",
    "#model2 - with respect to the knowledge of underlying sector structure\n",
    "#r1 - sample returns on the 61st day\n",
    "def empiric_models(N_samples, daily_corr):\n",
    "    r0, r1 = return_generator(N_samples, daily_corr)\n",
    "    model1 = []\n",
    "    model2 = np.zeros((N_samples, 100, 100))\n",
    "    sector_average_corr = np.zeros((N_samples, 10, 10))\n",
    "    for k in range(0, N_samples):\n",
    "        model1.append(np.corrcoef(r0[k].transpose()))\n",
    "        for (i,j) in product(range(0,10), range(0,10)):         \n",
    "            if (i>j):\n",
    "                sector_average_corr[k][i][j] = np.mean(model1[k][i*10:(i+1)*10, j*10:(j+1)*10])\n",
    "                sector_average_corr[k][j][i] = sector_average_corr[k][i][j]\n",
    "            else:\n",
    "                if (i==j):\n",
    "                    sector_average_corr[k][i][j] = (np.sum(model1[k][i*10:(i+1)*10, j*10:(j+1)*10])-10)/90\n",
    "        for (i,j) in product(range(0,100), range(0,100)):\n",
    "            if (i==j):\n",
    "                model2[k][i][j] = 1.0\n",
    "            else:\n",
    "                model2[k][i][j] = sector_average_corr[k][i/10][j/10]\n",
    "    return model1, model2, r1\n",
    "    \n"
   ]
  },
  {
   "cell_type": "code",
   "execution_count": 6,
   "metadata": {
    "collapsed": false
   },
   "outputs": [],
   "source": [
    "#Weights for standard minimum variance Markowitz portfolio\n",
    "bnds = []\n",
    "for i in range(0,100):\n",
    "    bnds.append((0, None))\n",
    "bnds = tuple(bnds)\n",
    "cons_sum = ({'type': 'eq', 'fun': lambda x: np.sum(x)-1})\n",
    "def portfolio_variance(x, matrix):\n",
    "    p_var = np.dot(np.dot(x, matrix), x)\n",
    "    return p_var\n",
    "def grad_portfolio_var(x, matrix):\n",
    "    grad = []\n",
    "    for i in range(0,100):\n",
    "        s = np.dot(matrix[i], x)+matrix[i][i]*x[i]\n",
    "        grad.append(s)\n",
    "    return grad\n",
    "def weights(matrix, number_of_weights):\n",
    "    x0 = (1./number_of_weights)*np.ones(number_of_weights)\n",
    "    res = optimize.minimize(portfolio_variance, x0, args=(matrix), method = 'SLSQP',\n",
    "                            jac = grad_portfolio_var, bounds=bnds, constraints=cons_sum,\n",
    "                            options={'maxiter': 100})\n",
    "    return res.x"
   ]
  },
  {
   "cell_type": "code",
   "execution_count": 7,
   "metadata": {
    "collapsed": false
   },
   "outputs": [],
   "source": [
    "#Error function for sample/out_of_sample as variance of optimal portfolio returns\n",
    "#range_of_sample - range on which we estimate optimal weights\n",
    "#out_of_sample range is set to be 200\n",
    "m2 = np.identity(100)\n",
    "def error(x, sample_or_not, range_of_sample):\n",
    "    if (sample_or_not=='sample'):\n",
    "        boundary0 = 0\n",
    "        boundary1 = range_of_sample\n",
    "    if (sample_or_not=='out_of_sample'):\n",
    "        boundary0 = N_samples - range_of_sample\n",
    "        boundary1 = N_samples\n",
    "    portfolio_returns = []\n",
    "    for k in range (boundary0, boundary1):\n",
    "        m = x[0]*m0[k] + x[1]*m1[k] + (1-x[0]-x[1])*m2\n",
    "        w = weights(m, 100)\n",
    "        portfolio_returns.append(np.dot(w, r1[k]))\n",
    "    return np.var(portfolio_returns)"
   ]
  },
  {
   "cell_type": "code",
   "execution_count": 8,
   "metadata": {
    "collapsed": true
   },
   "outputs": [],
   "source": [
    "#Optimizing model weights with positivity constraints \n",
    "#Function depending on the range_of_sample\n",
    "cons = ({'type': 'ineq', 'fun': lambda x: x[0]},\n",
    "       {'type': 'ineq', 'fun': lambda x: x[1]},\n",
    "       {'type': 'ineq', 'fun': lambda x: 1-x[0]-x[1]})\n",
    "def optimal_model_weights(a):\n",
    "    x0 = [0.5, 0.3]\n",
    "    start_time = datetime.datetime.now()\n",
    "    res = optimize.minimize(error, x0, args=('sample', a), method='COBYLA',\n",
    "                       constraints=cons,\n",
    "                       options={'maxiter': 100})\n",
    "    return datetime.datetime.now() - start_time, res.x, res.fun\n"
   ]
  },
  {
   "cell_type": "code",
   "execution_count": 9,
   "metadata": {
    "collapsed": false
   },
   "outputs": [
    {
     "name": "stderr",
     "output_type": "stream",
     "text": [
      "C:\\Users\\Mikhail\\Anaconda2\\lib\\site-packages\\ipykernel\\__main__.py:6: RuntimeWarning: covariance is not positive-semidefinite.\n",
      "C:\\Users\\Mikhail\\Anaconda2\\lib\\site-packages\\scipy\\optimize\\slsqp.py:337: RuntimeWarning: invalid value encountered in greater\n",
      "  bnderr = where(bnds[:, 0] > bnds[:, 1])[0]\n"
     ]
    },
    {
     "name": "stdout",
     "output_type": "stream",
     "text": [
      "0:02:42.933000 [ 0.75048289  0.2471991 ] 0.0641006777236\n",
      "0.0663416718708\n",
      "0:05:50.147000 [ 0.74388541  0.25609283] 0.0662468840241\n",
      "0.0663045355276\n",
      "0:06:06.905000 [ 0.73443079  0.22068411] 0.0659684530942\n",
      "0.0661855423221\n",
      "0:08:08.482000 [ 0.541452   0.2787931] 0.0670312901051\n",
      "0.066045313475\n",
      "0:10:47.781000 [ 0.72566589  0.18715568] 0.0673103865402\n",
      "0.0659786203009\n",
      "0:13:39.060000 [ 0.72715012  0.20120121] 0.0655923036709\n",
      "0.0661497773222\n",
      "0:14:22.690000 [ 0.73118287  0.20883976] 0.0664870866011\n",
      "0.0662063045262\n",
      "0:18:37.883000 [ 0.73117115  0.20951522] 0.0651336085467\n",
      "0.0662095375948\n",
      "0:15:04.827000 [ 0.50319617  0.34543659] 0.0642518212276\n",
      "0.0664868744294\n",
      "0:24:08.919000 [ 0.73332343  0.22970094] 0.0633685496978\n",
      "0.0660400948862\n",
      "0:38:02.814000 [ 0.73858536  0.24351255] 0.0638823269874\n",
      "0.0661294706735\n",
      "0:49:52.580000 [ 0.74740184  0.24364414] 0.0631062177628\n",
      "0.066296031334\n",
      "1:02:01.396000 [ 0.74852478  0.24426499] 0.0621150378573\n",
      "0.0663120049653\n",
      "1:56:56.017000 [ 0.72925471  0.2218455 ] 0.0648135397442\n",
      "0.066063321933\n"
     ]
    }
   ],
   "source": [
    "times = []\n",
    "results = []\n",
    "sample_error = []\n",
    "out_of_sample_error = []\n",
    "range_of_sample = [100, 200, 300, 400, 500, 600, 700, 800, 900, 1000, 1500, 2000, 2500, 5000]\n",
    "N_samples = 5200\n",
    "daily_corr = daily_correlation(0.9)\n",
    "m0, m1, r1 = empiric_models(N_samples, daily_corr)\n",
    "results, sample_error, times, out_of_sample_error = [], [], [], []\n",
    "for i in range_of_sample:\n",
    "    time, result, err = optimal_model_weights(i)\n",
    "    sample_error.append(err)\n",
    "    results.append([result[0], result[1], 1-result[0]-result[1]])\n",
    "    times.append(time)\n",
    "    print time, result, err\n",
    "    e = error(result, 'out_of_sample', 200)\n",
    "    print e"
   ]
  },
  {
   "cell_type": "code",
   "execution_count": 19,
   "metadata": {
    "collapsed": false
   },
   "outputs": [
    {
     "name": "stdout",
     "output_type": "stream",
     "text": [
      " 500 0.725665889298\n"
     ]
    },
    {
     "data": {
      "image/png": "[encoded data removed]",
      "text/plain": [
       "<matplotlib.figure.Figure at 0x26cef1d0>"
      ]
     },
     "metadata": {},
     "output_type": "display_data"
    },
    {
     "data": {
      "image/png": "[encoded data removed]",
      "text/plain": [
       "<matplotlib.figure.Figure at 0x26a17400>"
      ]
     },
     "metadata": {},
     "output_type": "display_data"
    }
   ],
   "source": [
    "first_coef = []\n",
    "for i in range(0,14):\n",
    "    first_coef.append(results[i][0])\n",
    "out_of_sample_error = [0.0663416718708, 0.0663045355276, 0.0661855423221, 0.066045313475, 0.0659786203009, 0.0661497773222, \n",
    "                      0.0662063045262, 0.0662095375948, 0.0664868744294, 0.0660400948862, 0.0661294706735, 0.066296031334, \n",
    "                      0.0663120049653, 0.066063321933]\n",
    "index = np.argmin(out_of_sample_error)\n",
    "print range_of_sample[index], first_coef[index]\n",
    "plt.plot(range_of_sample, first_coef, 'g')\n",
    "plt.title('First coefficient for sigma = 0.9')\n",
    "plt.show()\n",
    "plt.plot(range_of_sample, out_of_sample_error, 'c')\n",
    "plt.title('Out of sample error for sigma = 0.9')\n",
    "plt.show()"
   ]
  },
  {
   "cell_type": "code",
   "execution_count": null,
   "metadata": {
    "collapsed": true
   },
   "outputs": [],
   "source": []
  }
 ],
 "metadata": {
  "kernelspec": {
   "display_name": "Python 2",
   "language": "python",
   "name": "python2"
  },
  "language_info": {
   "codemirror_mode": {
    "name": "ipython",
    "version": 2
   },
   "file_extension": ".py",
   "mimetype": "text/x-python",
   "name": "python",
   "nbconvert_exporter": "python",
   "pygments_lexer": "ipython2",
   "version": "2.7.11"
  }
 },
 "nbformat": 4,
 "nbformat_minor": 0
}
