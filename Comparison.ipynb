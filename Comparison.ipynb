{
 "cells": [
  {
   "cell_type": "code",
   "execution_count": 1,
   "metadata": {
    "collapsed": false
   },
   "outputs": [
    {
     "data": {
      "image/png": "[encoded data removed]",
      "text/plain": [
       "<matplotlib.figure.Figure at 0x7093860>"
      ]
     },
     "metadata": {},
     "output_type": "display_data"
    }
   ],
   "source": [
    "import random as rd\n",
    "import numpy as np\n",
    "from itertools import product\n",
    "from scipy import optimize\n",
    "import datetime\n",
    "%matplotlib inline\n",
    "import matplotlib\n",
    "import matplotlib.pyplot as plt\n",
    "import pandas as pd\n",
    "\n",
    "\n",
    "#Generating pairwise correlations of 10 sectors\n",
    "M2_S = np.zeros((10,10))\n",
    "for i,j in product (range(0,10),range(0,10)):\n",
    "    if (i==j):\n",
    "        M2_S[i][j] = 1.0\n",
    "    else:\n",
    "        if (i>j):\n",
    "            M2_S[i][j] = rd.uniform(-1.0,1.0)\n",
    "            M2_S[j][i] = M2_S[i][j]   \n",
    "\n",
    "\n",
    "#Correlation matrix of 100 stocks based on their sector structure\n",
    "\n",
    "def tanh(x):\n",
    "    for (k,i,j) in product(range(0,61), range(0,95), range(0,95)):\n",
    "        if (i!=j):\n",
    "            x[k][i][j] = np.tanh(x[k][i][j])\n",
    "\n",
    "\n",
    "def daily_correlation(sigma):\n",
    "    daily_corr = np.zeros((61, 95, 95))\n",
    "    for (i, j) in product (range(0,95), range(0,95)):\n",
    "        if (i>j):\n",
    "            daily_corr[0][i][j] = np.random.normal(M2_S[i/10][j/10], sigma, 1)\n",
    "            daily_corr[0][j][i] = daily_corr[0][i][j]\n",
    "        else:\n",
    "            if (i==j):\n",
    "                daily_corr[0][i][j] = 1.0\n",
    "        for k in range(1, 61):\n",
    "            if (i>j):\n",
    "                daily_corr[k][i][j] = np.random.normal(daily_corr[k-1][i][j], sigma, 1)\n",
    "                daily_corr[k][j][i] = daily_corr[k][i][j]\n",
    "            else:\n",
    "                if (i==j):\n",
    "                    daily_corr[k][i][j] = 1.0  \n",
    "    tanh(daily_corr)\n",
    "    return daily_corr\n",
    "\n",
    "daily_corr = daily_correlation(0.1)\n",
    "\n",
    "\n",
    "#Plots showing evolution of the correlations between some stocks\n",
    "def plots(daily_corr):       \n",
    "    a,b,c,d = [],[],[],[]\n",
    "    for i in range (0,61):\n",
    "        a.append(daily_corr[i][9][94])\n",
    "        b.append(daily_corr[i][93][94])\n",
    "        c.append(daily_corr[i][10][11])\n",
    "        d.append(daily_corr[i][10][12])\n",
    "\n",
    "    plt.plot(a, 'r', b, 'b', c, 'g', d, 'c')\n",
    "    plt.show()\n",
    "\n",
    "    \n",
    "plots(daily_corr)\n",
    "\n",
    "\n",
    "#Generating samples of stock returns based on their correlations over 61 days\n",
    "def return_generator(N_samples, daily_corr):\n",
    "    mu = np.zeros(95)\n",
    "    returns = []\n",
    "    for k in range(0,61):\n",
    "        returns.append(np.random.multivariate_normal(mu, daily_corr[k], N_samples))\n",
    "    last_returns = returns[60]\n",
    "    returns = np.swapaxes(np.delete(returns, 60, axis=0), 0, 1)\n",
    "    return returns, last_returns\n",
    "\n",
    "\n",
    "#Empirical models for correlation matrices of stock returns constructed from 60 days\n",
    "#model1 - straight-forward empirical\n",
    "#model2 - with respect to the knowledge of underlying sector structure\n",
    "#r1 - sample returns on the 61st day\n",
    "def empiric_models(N_samples, daily_corr):\n",
    "    r0, r1 = return_generator(N_samples, daily_corr)\n",
    "    model1 = []\n",
    "    model2 = np.zeros((N_samples, 95, 95))\n",
    "    sector_average_corr = np.zeros((N_samples, 10, 10))\n",
    "    for k in range(0, N_samples):\n",
    "        model1.append(np.corrcoef(r0[k].transpose()))\n",
    "        for (i,j) in product(range(0,9), range(0,9)):         \n",
    "            if (i>j):\n",
    "                sector_average_corr[k][i][j] = np.mean(model1[k][i*10:(i+1)*10, j*10:(j+1)*10])\n",
    "                sector_average_corr[k][j][i] = sector_average_corr[k][i][j]\n",
    "            else:\n",
    "                if (i==j):\n",
    "                    sector_average_corr[k][i][j] = (np.sum(model1[k][i*10:(i+1)*10, j*10:(j+1)*10])-10)/90\n",
    "        for i in range(0,9):\n",
    "            sector_average_corr[k][i][9] = np.mean(model1[k][i*10:(i+1)*10, 90:95])\n",
    "            sector_average_corr[k][9][i] = sector_average_corr[k][i][9]\n",
    "        sector_average_corr[k][9][9] = (np.sum(model1[k][90:95, 90:95])-5)/20\n",
    "        for (i,j) in product(range(0,95), range(0,95)):\n",
    "            if (i==j):\n",
    "                model2[k][i][j] = 1.0\n",
    "            else:\n",
    "                model2[k][i][j] = sector_average_corr[k][i/10][j/10]\n",
    "    return model1, model2, r1\n",
    "    \n",
    "    \n",
    "    \n",
    "#Weights for standard minimum variance Markowitz portfolio\n",
    "bnds = []\n",
    "for i in range(0,95):\n",
    "    bnds.append((0, None))\n",
    "bnds = tuple(bnds)\n",
    "cons_sum = ({'type': 'eq', 'fun': lambda x: np.sum(x)-1})\n",
    "def portfolio_variance(x, matrix):\n",
    "    p_var = np.dot(np.dot(x, matrix), x)\n",
    "    return p_var\n",
    "def grad_portfolio_var(x, matrix):\n",
    "    grad = []\n",
    "    for i in range(0,95):\n",
    "        s = 2*np.dot(matrix[i], x)\n",
    "        grad.append(s)\n",
    "    return grad\n",
    "def weights(matrix, number_of_weights):\n",
    "    x0 = (1./number_of_weights)*np.ones(number_of_weights)\n",
    "    res = optimize.minimize(portfolio_variance, x0, args=(matrix), method = 'SLSQP',\n",
    "                            jac = grad_portfolio_var, bounds=bnds, constraints=cons_sum,\n",
    "                            options={'maxiter': 100})\n",
    "    return res.x\n",
    "\n",
    "\n",
    "#Error function for sample/out_of_sample as variance of optimal portfolio returns\n",
    "#range_of_sample - range on which we estimate optimal weights\n",
    "#out_of_sample range is set to be 200\n",
    "m2 = np.identity(95)\n",
    "def error(x, m0, m1, r1):\n",
    "    portfolio_returns = []\n",
    "    for k in range (0, len(m0)):\n",
    "        m = x[0]*m0[k] + x[1]*m1[k] + (1-x[0]-x[1])*m2\n",
    "        w = weights(m, 95)\n",
    "        portfolio_returns.append(np.dot(w, r1[k]))\n",
    "    return np.var(portfolio_returns)\n",
    "\n",
    "\n",
    "#Optimizing model weights with positivity constraints \n",
    "#Function depending on the range_of_sample\n",
    "cons = ({'type': 'ineq', 'fun': lambda x: x[0]},\n",
    "       {'type': 'ineq', 'fun': lambda x: x[1]},\n",
    "       {'type': 'ineq', 'fun': lambda x: 1-x[0]-x[1]})\n",
    "def optimal_model_weights(m0, m1, r1):\n",
    "    x0 = [0.5, 0.3]\n",
    "    start_time = datetime.datetime.now()\n",
    "    res = optimize.minimize(error, x0, args=(m0, m1, r1), method='COBYLA',\n",
    "                       constraints=cons,\n",
    "                       options={'maxiter': 100})\n",
    "    return datetime.datetime.now() - start_time, res.x, res.fun\n",
    "\n",
    "\n",
    "def data_for_stumps(sigma_values, samples_per_stump):\n",
    "    daily_corr = daily_correlation(sigma_values[0])\n",
    "    m0_all, m1_all, r1_all = empiric_models(samples_per_stump, daily_corr)\n",
    "    for i in range(1,len(sigma_values)):\n",
    "        daily_corr = daily_correlation(sigma_values[i])\n",
    "        m0_upd, m1_upd, r1_upd = empiric_models(samples_per_stump, daily_corr)\n",
    "        m0_all = np.concatenate((m0_all, m0_upd), 0)\n",
    "        m1_all = np.concatenate((m1_all, m1_upd), 0)\n",
    "        r1_all = np.concatenate((r1_all, r1_upd), 0)\n",
    "    return m0_all, m1_all, r1_all\n",
    "\n",
    "\n",
    "\n",
    "\n",
    "def three_D_m0(m0_all):\n",
    "    b = np.zeros((len(m0_all), 95, 95))\n",
    "    for (k, i, j) in product(range(0, len(m0_all)), range(0, 95), range(0, 95)):\n",
    "        I = 95*i+j+1\n",
    "        b[k][i][j] = m0_all[k][I]\n",
    "    return b\n",
    "\n",
    "def three_D_m1(m1_all):\n",
    "    b = np.zeros((len(m1_all), 95, 95))\n",
    "    for (k, i, j) in product(range(0, len(m1_all)), range(0, 95), range(0, 95)):\n",
    "        I = 95*i+j+1\n",
    "        b[k][i][j] = m1_all[k][I]\n",
    "    return b\n"
   ]
  },
  {
   "cell_type": "code",
   "execution_count": 2,
   "metadata": {
    "collapsed": false
   },
   "outputs": [],
   "source": [
    "I = [20, 27, 34, 40, 46, 52, 59, 66, 73, 79]\n",
    "\n",
    "def coef_for_sigma_one(sigma, r):\n",
    "    if (sigma<=sigmas[I[0]]):\n",
    "        coef = [r[I[0]][0], r[I[0]][1]]\n",
    "    for i in range(0,9):\n",
    "        if ((sigma>sigmas[I[i]]) & (sigma<=sigmas[I[i+1]])):\n",
    "            coef = [(r[I[i]][2]+r[I[i+1]][0])/2, (r[I[i]][3]+r[I[i+1]][1])/2]\n",
    "    if (sigma>sigmas[I[9]]):\n",
    "        coef = [r[I[9]][2], r[I[9]][3]]\n",
    "    return coef\n",
    "\n",
    "def coef_for_sigma_two(sigma, r):\n",
    "    if (sigma<=sigmas[I[0]]):\n",
    "        coef = [np.mean(r[0][I[0]:]), np.mean(r[1][I[0]:])]\n",
    "    for i in range(I[0], I[9]):\n",
    "        if ((sigma>sigmas[i]) & (sigma<=sigmas[i+1])):\n",
    "            coef = [(np.mean(r[2][:(i+1)])+np.mean(r[0][(i+1):]))/2, \n",
    "                    (np.mean(r[3][:(i+1)])+np.mean(r[1][(i+1):]))/2]\n",
    "    if (sigma>sigmas[I[9]]):\n",
    "        coef = [np.mean(r[2][:(I[9]+1)]), np.mean(r[3][:(I[9]+1)])]\n",
    "    return coef\n",
    "\n",
    "def coef_for_sigma_three(sigma,r):\n",
    "    if (sigma<=sigmas[I[0]]):\n",
    "        coef = [np.mean(r[0][I[0]:]), np.mean(r[1][I[0]:])]\n",
    "    for i in range(I[0], I[9]):\n",
    "        if ((sigma>sigmas[i]) & (sigma<=sigmas[i+1])):\n",
    "            coef = [(np.sum(r[2][:(i+1)])+np.sum(r[0][(i+1):]))/100, \n",
    "                    (np.sum(r[3][:(i+1)])+np.sum(r[1][(i+1):]))/100]\n",
    "    if (sigma>sigmas[I[9]]):\n",
    "        coef = [np.mean(r[2][:(I[9]+1)]), np.mean(r[3][:(I[9]+1)])]\n",
    "    return coef\n",
    "    \n",
    "def test_error_one(m0_test, m1_test, r1_test, results, test_sigma_values, samples_per_stump):\n",
    "    portfolio_returns = []\n",
    "    for k in range (0, len(test_sigma_values)):\n",
    "        x = coef_for_sigma_one(test_sigma_values[k], results)\n",
    "        for j in range(0,samples_per_stump):\n",
    "            ind = samples_per_stump*k+j\n",
    "            m = x[0]*m0_test[ind] + x[1]*m1_test[ind] + (1-x[0]-x[1])*m2\n",
    "            w = weights(m, 95)\n",
    "            portfolio_returns.append(np.dot(w, r1_test[ind]))\n",
    "    return np.var(portfolio_returns)\n",
    "\n",
    "def test_error_two(m0_test, m1_test, r1_test, res, test_sigma_values, samples_per_stump):\n",
    "    portfolio_returns = []\n",
    "    for k in range (0, len(test_sigma_values)):\n",
    "        x = coef_for_sigma_two(test_sigma_values[k], res)\n",
    "        for j in range(0,samples_per_stump):\n",
    "            ind = samples_per_stump*k+j\n",
    "            m = x[0]*m0_test[ind] + x[1]*m1_test[ind] + (1-x[0]-x[1])*m2\n",
    "            w = weights(m, 95)\n",
    "            portfolio_returns.append(np.dot(w, r1_test[ind]))\n",
    "    return np.var(portfolio_returns)\n",
    "\n",
    "def test_error_three(m0_test, m1_test, r1_test, res, test_sigma_values, samples_per_stump):\n",
    "    portfolio_returns = []\n",
    "    for k in range (0, len(test_sigma_values)):\n",
    "        x = coef_for_sigma_three(test_sigma_values[k], res)\n",
    "        for j in range(0,samples_per_stump):\n",
    "            ind = samples_per_stump*k+j\n",
    "            m = x[0]*m0_test[ind] + x[1]*m1_test[ind] + (1-x[0]-x[1])*m2\n",
    "            w = weights(m, 95)\n",
    "            portfolio_returns.append(np.dot(w, r1_test[ind]))\n",
    "    return np.var(portfolio_returns)\n",
    "\n",
    "\n"
   ]
  },
  {
   "cell_type": "code",
   "execution_count": 3,
   "metadata": {
    "collapsed": false
   },
   "outputs": [
    {
     "name": "stdout",
     "output_type": "stream",
     "text": [
      "[ 0.31876075  0.41371722]\n"
     ]
    }
   ],
   "source": [
    "m0_all = pd.read_csv('m0_all.csv', header=None)\n",
    "m1_all = pd.read_csv('m1_all.csv', header=None)\n",
    "r1_all = pd.read_csv('r1_all.csv', header=None)\n",
    "\n",
    "m0_all = m0_all.as_matrix(columns=None)\n",
    "m1_all = m1_all.as_matrix(columns=None)\n",
    "r1_all = r1_all.as_matrix(columns=None)\n",
    "    \n",
    "m0_all = three_D_m0(m0_all)\n",
    "m1_all = three_D_m1(m1_all)\n",
    "r1_all = r1_all[0:2500, 1:96]\n",
    "\n",
    "time, result, value = optimal_model_weights(m0_all, m1_all, r1_all)\n",
    "\n",
    "print result\n"
   ]
  },
  {
   "cell_type": "code",
   "execution_count": 4,
   "metadata": {
    "collapsed": false
   },
   "outputs": [],
   "source": [
    "import ast\n",
    "results1 = pd.read_csv('results1.csv', header=None)\n",
    "results2 = pd.read_csv('results2.csv', header=None)\n",
    "results3 = pd.read_csv('results3.csv', header=None)\n",
    "results4 = pd.read_csv('results4.csv', header=None)\n",
    "sigmas = pd.read_csv('sigmas.csv', header=None)[1]\n",
    "results = np.concatenate((results1[1], results2[1], results3[1], results4[1]), 0)\n",
    "\n",
    "res = []\n",
    "for i in range(0,100):\n",
    "    res.append(ast.literal_eval(results[i]))\n",
    "results = res\n",
    "\n",
    "res = []\n",
    "for i in range(0,4):\n",
    "    temp = []\n",
    "    for j in range(0,100):\n",
    "        temp.append(results[j][i])\n",
    "    res.append(temp)\n"
   ]
  },
  {
   "cell_type": "code",
   "execution_count": 5,
   "metadata": {
    "collapsed": false
   },
   "outputs": [
    {
     "name": "stderr",
     "output_type": "stream",
     "text": [
      "C:\\Users\\Mikhail\\Anaconda2\\lib\\site-packages\\ipykernel\\__main__.py:74: RuntimeWarning: covariance is not positive-semidefinite.\n"
     ]
    },
    {
     "name": "stdout",
     "output_type": "stream",
     "text": [
      "Error for simple coefficeints\n",
      "0.0139370455966\n",
      "Error from tree classifier\n",
      "0.0138428071163\n",
      "Error from the first boosting\n",
      "0.0138978319478\n",
      "Error from the second boosting\n",
      "0.0138882071096\n"
     ]
    }
   ],
   "source": [
    "test_sigma_values = np.sort(np.random.uniform(0.05, 0.3, 37))\n",
    "\n",
    "m0_test, m1_test, r1_test = data_for_stumps(test_sigma_values, 25)\n",
    "\n",
    "error1 = error(result, m0_test, m1_test, r1_test)\n",
    "\n",
    "print('Error for simple coefficeints')\n",
    "print error1\n",
    "\n",
    "error2 = test_error_one(m0_test, m1_test, r1_test, results, test_sigma_values, 25)\n",
    "\n",
    "print('Error from tree classifier')\n",
    "print error2\n",
    "\n",
    "error3 = test_error_two(m0_test, m1_test, r1_test, res, test_sigma_values, 25)\n",
    "\n",
    "print('Error from the first boosting')\n",
    "print error3\n",
    "\n",
    "error4 = test_error_three(m0_test, m1_test, r1_test, res, test_sigma_values, 25)\n",
    "\n",
    "print('Error from the second boosting')\n",
    "print error4\n"
   ]
  },
  {
   "cell_type": "code",
   "execution_count": 6,
   "metadata": {
    "collapsed": false
   },
   "outputs": [
    {
     "name": "stderr",
     "output_type": "stream",
     "text": [
      "C:\\Users\\Mikhail\\Anaconda2\\lib\\site-packages\\ipykernel\\__main__.py:74: RuntimeWarning: covariance is not positive-semidefinite.\n"
     ]
    },
    {
     "name": "stdout",
     "output_type": "stream",
     "text": [
      "Error for simple coefficeints\n",
      "0.01370751704\n",
      "Error from tree classifier\n",
      "0.013597485445\n",
      "Error from the first boosting\n",
      "0.0136424769869\n",
      "Error from the second boosting\n",
      "0.013646747297\n"
     ]
    }
   ],
   "source": [
    "test_sigma_values = np.sort(np.random.uniform(0.05, 0.3, 37))\n",
    "\n",
    "m0_test, m1_test, r1_test = data_for_stumps(test_sigma_values, 25)\n",
    "\n",
    "error1 = error(result, m0_test, m1_test, r1_test)\n",
    "\n",
    "print('Error for simple coefficeints')\n",
    "print error1\n",
    "\n",
    "error2 = test_error_one(m0_test, m1_test, r1_test, results, test_sigma_values, 25)\n",
    "\n",
    "print('Error from tree classifier')\n",
    "print error2\n",
    "\n",
    "error3 = test_error_two(m0_test, m1_test, r1_test, res, test_sigma_values, 25)\n",
    "\n",
    "print('Error from the first boosting')\n",
    "print error3\n",
    "\n",
    "error4 = test_error_three(m0_test, m1_test, r1_test, res, test_sigma_values, 25)\n",
    "\n",
    "print('Error from the second boosting')\n",
    "print error4"
   ]
  },
  {
   "cell_type": "code",
   "execution_count": 7,
   "metadata": {
    "collapsed": false
   },
   "outputs": [
    {
     "name": "stderr",
     "output_type": "stream",
     "text": [
      "C:\\Users\\Mikhail\\Anaconda2\\lib\\site-packages\\ipykernel\\__main__.py:74: RuntimeWarning: covariance is not positive-semidefinite.\n"
     ]
    },
    {
     "name": "stdout",
     "output_type": "stream",
     "text": [
      "Error for simple coefficeints\n",
      "0.0159337693817\n",
      "Error from tree classifier\n",
      "0.0158045711293\n",
      "Error from the first boosting\n",
      "0.0158585320451\n",
      "Error from the second boosting\n",
      "0.0158244564783\n"
     ]
    }
   ],
   "source": [
    "test_sigma_values = np.sort(np.random.uniform(0.05, 0.3, 37))\n",
    "\n",
    "m0_test, m1_test, r1_test = data_for_stumps(test_sigma_values, 25)\n",
    "\n",
    "error1 = error(result, m0_test, m1_test, r1_test)\n",
    "\n",
    "print('Error for simple coefficeints')\n",
    "print error1\n",
    "\n",
    "error2 = test_error_one(m0_test, m1_test, r1_test, results, test_sigma_values, 25)\n",
    "\n",
    "print('Error from tree classifier')\n",
    "print error2\n",
    "\n",
    "error3 = test_error_two(m0_test, m1_test, r1_test, res, test_sigma_values, 25)\n",
    "\n",
    "print('Error from the first boosting')\n",
    "print error3\n",
    "\n",
    "error4 = test_error_three(m0_test, m1_test, r1_test, res, test_sigma_values, 25)\n",
    "\n",
    "print('Error from the second boosting')\n",
    "print error4"
   ]
  },
  {
   "cell_type": "code",
   "execution_count": 8,
   "metadata": {
    "collapsed": false
   },
   "outputs": [
    {
     "name": "stderr",
     "output_type": "stream",
     "text": [
      "C:\\Users\\Mikhail\\Anaconda2\\lib\\site-packages\\ipykernel\\__main__.py:74: RuntimeWarning: covariance is not positive-semidefinite.\n"
     ]
    },
    {
     "name": "stdout",
     "output_type": "stream",
     "text": [
      "Error for simple coefficeints\n",
      "0.0153984776225\n",
      "Error from tree classifier\n",
      "0.0152603098172\n",
      "Error from the first boosting\n",
      "0.015341530136\n",
      "Error from the second boosting\n",
      "0.0153378727982\n"
     ]
    }
   ],
   "source": [
    "test_sigma_values = np.sort(np.random.uniform(0.05, 0.3, 37))\n",
    "\n",
    "m0_test, m1_test, r1_test = data_for_stumps(test_sigma_values, 25)\n",
    "\n",
    "error1 = error(result, m0_test, m1_test, r1_test)\n",
    "\n",
    "print('Error for simple coefficeints')\n",
    "print error1\n",
    "\n",
    "error2 = test_error_one(m0_test, m1_test, r1_test, results, test_sigma_values, 25)\n",
    "\n",
    "print('Error from tree classifier')\n",
    "print error2\n",
    "\n",
    "error3 = test_error_two(m0_test, m1_test, r1_test, res, test_sigma_values, 25)\n",
    "\n",
    "print('Error from the first boosting')\n",
    "print error3\n",
    "\n",
    "error4 = test_error_three(m0_test, m1_test, r1_test, res, test_sigma_values, 25)\n",
    "\n",
    "print('Error from the second boosting')\n",
    "print error4"
   ]
  },
  {
   "cell_type": "code",
   "execution_count": 9,
   "metadata": {
    "collapsed": false
   },
   "outputs": [
    {
     "name": "stderr",
     "output_type": "stream",
     "text": [
      "C:\\Users\\Mikhail\\Anaconda2\\lib\\site-packages\\ipykernel\\__main__.py:74: RuntimeWarning: covariance is not positive-semidefinite.\n"
     ]
    },
    {
     "name": "stdout",
     "output_type": "stream",
     "text": [
      "Error for simple coefficeints\n",
      "0.0143382630374\n",
      "Error from tree classifier\n",
      "0.0143319684447\n",
      "Error from the first boosting\n",
      "0.0143089633981\n",
      "Error from the second boosting\n",
      "0.0143085228578\n"
     ]
    }
   ],
   "source": [
    "test_sigma_values = np.sort(np.random.uniform(0.05, 0.3, 37))\n",
    "\n",
    "m0_test, m1_test, r1_test = data_for_stumps(test_sigma_values, 25)\n",
    "\n",
    "error1 = error(result, m0_test, m1_test, r1_test)\n",
    "\n",
    "print('Error for simple coefficeints')\n",
    "print error1\n",
    "\n",
    "error2 = test_error_one(m0_test, m1_test, r1_test, results, test_sigma_values, 25)\n",
    "\n",
    "print('Error from tree classifier')\n",
    "print error2\n",
    "\n",
    "error3 = test_error_two(m0_test, m1_test, r1_test, res, test_sigma_values, 25)\n",
    "\n",
    "print('Error from the first boosting')\n",
    "print error3\n",
    "\n",
    "error4 = test_error_three(m0_test, m1_test, r1_test, res, test_sigma_values, 25)\n",
    "\n",
    "print('Error from the second boosting')\n",
    "print error4"
   ]
  },
  {
   "cell_type": "code",
   "execution_count": null,
   "metadata": {
    "collapsed": true
   },
   "outputs": [],
   "source": []
  }
 ],
 "metadata": {
  "kernelspec": {
   "display_name": "Python 2",
   "language": "python",
   "name": "python2"
  },
  "language_info": {
   "codemirror_mode": {
    "name": "ipython",
    "version": 2
   },
   "file_extension": ".py",
   "mimetype": "text/x-python",
   "name": "python",
   "nbconvert_exporter": "python",
   "pygments_lexer": "ipython2",
   "version": "2.7.11"
  }
 },
 "nbformat": 4,
 "nbformat_minor": 0
}
